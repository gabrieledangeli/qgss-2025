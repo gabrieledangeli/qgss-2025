{
 "cells": [
  {
   "cell_type": "code",
   "execution_count": 1,
   "id": "7c986efd",
   "metadata": {},
   "outputs": [],
   "source": [
    "import qiskit"
   ]
  },
  {
   "cell_type": "code",
   "execution_count": 2,
   "id": "3c634923",
   "metadata": {},
   "outputs": [
    {
     "data": {
      "text/plain": [
       "'2.1.0'"
      ]
     },
     "execution_count": 2,
     "metadata": {},
     "output_type": "execute_result"
    }
   ],
   "source": [
    "qiskit.__version__"
   ]
  },
  {
   "cell_type": "code",
   "execution_count": 3,
   "id": "b128fb36",
   "metadata": {},
   "outputs": [],
   "source": [
    "from qiskit_ibm_runtime import QiskitRuntimeService"
   ]
  },
  {
   "cell_type": "code",
   "execution_count": 5,
   "id": "790a1829",
   "metadata": {},
   "outputs": [
    {
     "name": "stderr",
     "output_type": "stream",
     "text": [
      "qiskit_runtime_service._resolve_cloud_instances:WARNING:2025-07-06 17:08:22,935: Default instance not set. Searching all available instances.\n"
     ]
    }
   ],
   "source": [
    "service = QiskitRuntimeService(channel=\"ibm_cloud\", token=\"1MkhnHcqth3_qDlgEwHwHIES_gUbw6DPca-XKx254TNP\")"
   ]
  },
  {
   "cell_type": "code",
   "execution_count": 6,
   "id": "82c9743c",
   "metadata": {},
   "outputs": [],
   "source": [
    "QiskitRuntimeService.save_account(channel=\"ibm_cloud\", token=\"1MkhnHcqth3_qDlgEwHwHIES_gUbw6DPca-XKx254TNP\")"
   ]
  },
  {
   "cell_type": "code",
   "execution_count": 7,
   "id": "f82a274c",
   "metadata": {},
   "outputs": [],
   "source": [
    "backend = service.backend(name=\"ibm_torino\")"
   ]
  },
  {
   "cell_type": "code",
   "execution_count": 8,
   "id": "8bed2e95",
   "metadata": {},
   "outputs": [
    {
     "data": {
      "text/plain": [
       "133"
      ]
     },
     "execution_count": 8,
     "metadata": {},
     "output_type": "execute_result"
    }
   ],
   "source": [
    "backend.num_qubits"
   ]
  }
 ],
 "metadata": {
  "kernelspec": {
   "display_name": "qgss25",
   "language": "python",
   "name": "python3"
  },
  "language_info": {
   "codemirror_mode": {
    "name": "ipython",
    "version": 3
   },
   "file_extension": ".py",
   "mimetype": "text/x-python",
   "name": "python",
   "nbconvert_exporter": "python",
   "pygments_lexer": "ipython3",
   "version": "3.13.5"
  }
 },
 "nbformat": 4,
 "nbformat_minor": 5
}
